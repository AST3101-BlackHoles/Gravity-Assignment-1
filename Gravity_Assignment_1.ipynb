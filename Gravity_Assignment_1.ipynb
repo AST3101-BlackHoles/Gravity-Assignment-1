{
 "cells": [
  {
   "cell_type": "markdown",
   "metadata": {},
   "source": [
    "## Homework Assignment 1 for AST3101H \n",
    "\n",
    "Author(s): Maya Fishbach\n",
    "\n",
    "Assigned: 15 Sep 2023\n",
    "\n",
    "Due: 25 Sep 2023"
   ]
  },
  {
   "cell_type": "code",
   "execution_count": 1,
   "metadata": {},
   "outputs": [],
   "source": [
    "%matplotlib inline\n",
    "%config InlineBackend.figure_format = 'retina'\n",
    "\n",
    "import matplotlib.pyplot as plt\n",
    "\n",
    "import numpy as np"
   ]
  },
  {
   "cell_type": "markdown",
   "metadata": {},
   "source": [
    "### Problem 1)\n",
    "\n",
    "#### Background:\n",
    "\n",
    "[Peters (1964)](https://link.aps.org/doi/10.1103/PhysRev.136.B1224) derives the orbital evolution of two point masses $m_1$ and $m_2$ due to gravitational radiation (i.e., the gravitational-wave \"inspiral,\" in which orbital energy and angular momentum are carried away by gravitational waves).\n",
    "\n",
    "Peters derives the rate of decay of the orbital semi-major axis $a$ and eccentricity $e$, $\\langle \\frac{da}{dt} \\rangle$ and $\\langle \\frac{de}{dt} \\rangle$ as a function of the component masses $m_1$ and $m_2$, the orbital separation $a$ and the eccentricity $e$. (The brackets $\\langle \\ldots \\rangle$ denote a time average over $\\sim1$ orbit.) \n",
    "\n",
    "He then uses these differential equations to solve for the time $T$ that it takes to evolve two masses $m_1$ and $m_2$ from an initial semi-major axis $a = a_0$ and eccentricity $e = e_0$ to a semi-major axis of $a = 0$ and eccentricity $e = e_0$ (i.e., the time it takes for $m_1$ and $m_2$ to merge.) $T$ is known as the gravitational-wave inspiral time."
   ]
  },
  {
   "cell_type": "markdown",
   "metadata": {},
   "source": [
    "### 1(a) -- 20 points\n",
    "For the circular case ($e_0 = 0$), the inspiral time $T_c$ ($c$ for circular) is given by:\n",
    "$$\n",
    "T_c(m_1, m_2, a_0) = \\frac{a_0^4}{4\\beta(m_1, m_2)},\n",
    "$$\n",
    "where \n",
    "$$\n",
    "\\beta(m_1, m_2) = \\frac{64}{5}\\frac{G^3}{c^5}m_1m_2(m_1+m_2)\n",
    "$$\n",
    "\n",
    "Make a plot of $T_c$ (in Gyr) versus $a_0$ (in solar radii) for two 10-solar mass black holes ($m_1 = m_2 = 10\\,M_\\odot$). \n",
    "\n",
    "Overplot (on the same axes) the result for two 20-solar mass black holes and two 30-solar mass black holes."
   ]
  },
  {
   "cell_type": "code",
   "execution_count": null,
   "metadata": {},
   "outputs": [],
   "source": [
    "###Code to answer 1(a) goes here.\n",
    "\n",
    "def beta_func(m1, m2):\n",
    "    '''\n",
    "    m1: mass_1 in solar masses Msun\n",
    "    m2: mass_2 in solar masses Msun\n",
    "    return: beta in units of [solar radius Rsun]^4 [Gyr]^[-1]\n",
    "    '''\n",
    "    \n",
    "    G = ## FILL THIS IN in units of [Msun]^-1 [Rsun]^3 [Gyr]^-2\n",
    "    \n",
    "    c = ## FILL THIS IN in units of [Rsun][Gyr]^-1\n",
    "    \n",
    "    beta = (64/5) * G**3 * c**-5 * m1 * m2 * (m1 + m2)\n",
    "    \n",
    "    return beta\n",
    "\n",
    "def Tc_func(m1, m2, a0):\n",
    "    '''\n",
    "    m1: mass_1 in Msun\n",
    "    m2: mass_2 in Msun\n",
    "    a0: initial semi-major axis in Rsun\n",
    "    return: Tc in units of Rsun\n",
    "    '''\n",
    "    \n",
    "    beta = beta_func(m1, m2)\n",
    "    Tc = a0**4 / (4 * beta)\n",
    "    \n",
    "    return Tc\n",
    "\n",
    "#### m1 = m2 = 10\n",
    "m1 = 10\n",
    "m2 = 10\n",
    "\n",
    "a0s = np.logspace(0, 3, 100) #set up log-spaced grid of initial semi-major axis from 1-10^3 solar radii \n",
    "\n",
    "Tcs = Tc_func(m1, m2, a0s)\n",
    "\n",
    "plt.plot(a0s, Tcs, label = r'$m_1 = m_2 = 10\\,M_\\odot$')\n",
    "\n",
    "### REPEAT FOR DIFFERENT m1, m2\n",
    "\n",
    "plt.xlabel(r'$a_0\\,[R_\\odot]$')\n",
    "\n",
    "plt.ylabel(r'$T_c$ [Gyr]')\n",
    "\n",
    "###Play around with turnning off log-log plots if desired\n",
    "plt.xscale('log') \n",
    "plt.yscale('log')\n",
    "\n",
    "plt.legend()\n",
    "\n",
    "plt.title('my title') ### TITLE YOUR PLOT"
   ]
  },
  {
   "cell_type": "markdown",
   "metadata": {},
   "source": [
    "### 1(b)  -- 20 points\n",
    "Fix $T_c = 14$ Gyr (roughly the age of the Universe), and plot $a_0$ as a function of the total mass $m_1 + m_2$ for equal-mass binaries ($m_1 = m_2$).\n",
    "\n",
    "Overplot the result for two different mass ratios $q \\equiv m_2/ m_1$: $q = 0.5$ and $q = 0.1$. Here we define $m_2$ to be smaller than (or equal to) $m_1$ so that $q \\leq 1$."
   ]
  },
  {
   "cell_type": "code",
   "execution_count": null,
   "metadata": {},
   "outputs": [],
   "source": [
    "#Code to answer 1(b) goes here.\n",
    "\n",
    "def m1_and_m2_from_Mtot_q(Mtot, q):\n",
    "    '''\n",
    "    Mtot: total mass m1 + m2\n",
    "    q: mass ratio m2/ m1\n",
    "    returns: component masses m1, m2\n",
    "    '''\n",
    "    m1 = Mtot / (1 + q)\n",
    "    m2 = q * m1\n",
    "    \n",
    "    return m1, m2\n",
    "\n",
    "def a0_from_fixed_Tc(Mtot, q, Tc = 14):\n",
    "    '''\n",
    "    Mtot: total mass m1 + m2\n",
    "    q: mass ratio m2/ m1\n",
    "    Tc: GW inspiral time for a circular orbit in Gyr, default value is 14 Gyr (age of Universe) \n",
    "    '''\n",
    "    m1, m2 = m1_and_m2_from_Mtot_q(Mtot, q)\n",
    "    \n",
    "    beta = beta_func(m1, m2)\n",
    "    \n",
    "    a0 = ### FILL THIS IN using beta and Tc\n",
    "    \n",
    "    return a0\n",
    "\n",
    "### Make your plot\n",
    "\n",
    "Mtots = np.linspace(10, 200, 100)\n",
    "\n",
    "qs = [1, 0.5, 0.1]\n",
    "\n",
    "for q in qs:\n",
    "    \n",
    "    a0s = a0_from_fixed_Tc(Mtots, q)\n",
    "    \n",
    "    plt.plot(Mtots, a0s, label = f'$q$ = {q}')\n",
    "    \n",
    "plt.xlabel('my x-axis') ### LABEL YOUR AXIS\n",
    "plt.ylabel('my y-axis') ### LABEL YOUR AXIS\n",
    "\n",
    "plt.legend(loc = 'best')\n",
    "\n",
    "###Play around with turnning off log-log plots if desired\n",
    "plt.xscale('log') \n",
    "plt.yscale('log')\n",
    "\n",
    "plt.title('my title') ### TITLE YOUR PLOT"
   ]
  },
  {
   "cell_type": "markdown",
   "metadata": {},
   "source": [
    "### 1(c) -- 10 points\n",
    "Your results in 1(b) show the initial orbital separation that is required for a (circular) binary to merge within the age of the Universe. How do these orbital separations compare to the typical radius that we expect massive stars to reach during their evolution (i.e. as red giants)? In a sentence or two, describe why this imposes a theoretical challenge for evolving a massive binary star system into a binary black hole system that evolves within the age of the Universe. In another sentence or two, describe one of the proposed theoretical \"solutions\" to overcoming this challenge. (Suggested reading: [Mandel & Farmer (2018)](http://arxiv.org/abs/1806.05820)) "
   ]
  },
  {
   "cell_type": "markdown",
   "metadata": {},
   "source": [
    "Answer 1(c) here."
   ]
  },
  {
   "cell_type": "markdown",
   "metadata": {},
   "source": [
    "### 1(d) (OPTIONAL)\n",
    "Use the general formula from Peters (1964) for the eccentric case ($e_0 \\neq 0$), which is given by:\n",
    "$$\n",
    "T = T_c \\frac{48}{19} \\Big(\\frac{1 - e_0^2}{e_0^{12/19}(1 + \\frac{121}{304}e_0^2)^{870/2299}} \\Big)^4 \\times \\int_0^{e_0} \\frac{e^{29/19}(1+\\frac{121}{304}e^2)^{1181/2299}}{(1 - e^2)^{3/2}} de\n",
    "$$\n",
    "\n",
    "Plot the gravitational-wave inspiral time as a function of the initial eccentricity, fixing $m_1 = m_2 = 10\\,M_\\odot$ and $a_0 = 20\\,R_\\odot$. (You will need to numerically evaluate the integral for each gridpiont in eccentricity. Feel free to use only a handful of eccentricity gridpoints.)"
   ]
  },
  {
   "cell_type": "code",
   "execution_count": null,
   "metadata": {},
   "outputs": [],
   "source": [
    "#### (Optionally) answer 1(d) here."
   ]
  },
  {
   "cell_type": "markdown",
   "metadata": {},
   "source": [
    "### Problem 2) -- 20 points\n",
    "\n",
    "#### Background:\n",
    "Common envelope evolution (see [Ivanova et al. 2013](https://link.springer.com/article/10.1007/s00159-013-0059-2) for a review) is typically approximated with an energy balance equation describing the transfer of binary orbital energy $E_\\mathrm{orb}$ to the binding energy $E_\\mathrm{bind}$ of the common envelope. The idea is that some of the binary's orbital energy gets transferred to unbind the common envelope. When the common envelope is expelled, it carries away this orbital energy, and as a result, the binary tightens. However, the efficiency $\\alpha$ of the common envelope in carrying away orbital energy is not known. $\\alpha$ is defined so that:\n",
    "\n",
    "$$\n",
    "E_\\mathrm{bind} = \\alpha \\times \\Delta E_\\mathrm{orb}\n",
    "$$\n",
    "\n",
    "where the common envelope binding energy $E_\\mathrm{bind}$ depends on the detailed stellar structure of the star that initiates the common envelope (the donor star), and\n",
    "\n",
    "$$\n",
    "\\Delta E_\\mathrm{orb} = \\frac{1}{2} G \\Big( -\\frac{m_{1,i} m_2}{a_i} + \\frac{m_{1,f} m_2}{a_f} \\Big)  \n",
    "$$\n",
    "\n",
    "where $m_{1,i}$ is the initial mass of the star initiating common envelope, $m_{1,f}$ is its post-common envelope mass, $m_2$ is the companion mass, $a_i$ is the initial orbital separation and $a_f$ is the final orbital separation.\n",
    "\n",
    "The value of $\\alpha$ is highly uncertain, and may be smaller or larger than 1.\n",
    "\n",
    "\n",
    "#### Question:\n",
    "Fixing all other parameters of the system, describe how the final orbital separation depends on $\\alpha$. For large values of $\\alpha > 1$, would the final orbital separation be larger or smaller compared to small values of $\\alpha < 1$? How do you think the value of $\\alpha$ affects the merger rate of binary black holes that are formed from common envelope evolution? (No numerical results required, just explain in a couple of sentences.)\n"
   ]
  },
  {
   "cell_type": "markdown",
   "metadata": {},
   "source": [
    "Answer 2) here."
   ]
  },
  {
   "cell_type": "code",
   "execution_count": null,
   "metadata": {},
   "outputs": [],
   "source": []
  }
 ],
 "metadata": {
  "kernelspec": {
   "display_name": "Python 3",
   "language": "python",
   "name": "python3"
  },
  "language_info": {
   "codemirror_mode": {
    "name": "ipython",
    "version": 3
   },
   "file_extension": ".py",
   "mimetype": "text/x-python",
   "name": "python",
   "nbconvert_exporter": "python",
   "pygments_lexer": "ipython3",
   "version": "3.8.3"
  }
 },
 "nbformat": 4,
 "nbformat_minor": 4
}
